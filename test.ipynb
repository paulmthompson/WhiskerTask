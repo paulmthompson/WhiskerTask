{
 "cells": [
  {
   "cell_type": "code",
   "execution_count": null,
   "metadata": {},
   "outputs": [],
   "source": [
    "include(\"/home/wanglab/Documents/WhiskerTask2/WhiskerTask.jl\")\n",
    "\n",
    "sampleRate=30000\n",
    "myt=Task_CameraTask()\n",
    "myfpga=FPGA(1,[0],usb3=true,sr=sampleRate)\n",
    "myparams=Algorithm[DetectAbs(),ClusterTemplate(49),AlignProm(),FeatureTime(),ReductionNone(),ThresholdMeanN()];\n",
    "(myrhd,ss,myfpgas)=makeRHD([myfpga],params=myparams,single_channel_mode=true,sr=sampleRate);\n",
    "\n",
    "handles = makegui(myrhd,ss,myt,myfpgas);\n"
   ]
  }
 ],
 "metadata": {
  "kernelspec": {
   "display_name": "Julia 1.6.3",
   "language": "julia",
   "name": "julia-1.6"
  },
  "language_info": {
   "file_extension": ".jl",
   "mimetype": "application/julia",
   "name": "julia",
   "version": "1.6.3"
  },
  "orig_nbformat": 4
 },
 "nbformat": 4,
 "nbformat_minor": 2
}
